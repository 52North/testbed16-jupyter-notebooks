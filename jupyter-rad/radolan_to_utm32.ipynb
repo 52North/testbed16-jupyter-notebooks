{
 "cells": [
  {
   "cell_type": "code",
   "execution_count": 58,
   "metadata": {},
   "outputs": [],
   "source": [
    "from datetime import datetime, date\n",
    "import tarfile\n",
    "import requests\n",
    "import wradlib as wrl\n",
    "\n",
    "import numpy as np\n",
    "import osr\n",
    "\n",
    "import pathlib"
   ]
  },
  {
   "cell_type": "code",
   "execution_count": 59,
   "metadata": {},
   "outputs": [],
   "source": [
    "RADOLAN_FTP_URL = \"https://opendata.dwd.de/climate_environment/CDC/grids_germany/daily/radolan/historical/bin/2017/SF201707.tar.gz\"\n",
    "\n",
    "START_DATE = date(2017, 7, 24)\n",
    "END_DATE = date(2017, 7, 27)\n",
    "\n",
    "GEOTIFF_OUTPUT_FOLDER = \"./gtiff/\"\n",
    "pathlib.Path(GEOTIFF_OUTPUT_FOLDER).mkdir(parents=True, exist_ok=True)"
   ]
  },
  {
   "cell_type": "code",
   "execution_count": 24,
   "metadata": {},
   "outputs": [],
   "source": [
    "# download archive\n",
    "r = requests.get(RADOLAN_FTP_URL, stream=True)\n",
    "with open(\"output.tar.gz\", \"wb\") as output:\n",
    "    output.write(r.content)\n",
    "    \n",
    "# extract archive into temp\n",
    "tar = tarfile.open(\"output.tar.gz\", \"r:gz\")\n",
    "tar.extractall(path=\"/tmp/radolan\")\n",
    "tar.close()"
   ]
  },
  {
   "cell_type": "code",
   "execution_count": 39,
   "metadata": {},
   "outputs": [],
   "source": [
    "filepath = \"/tmp/radolan/raa01-sf_10000-1707010050-dwd---bin\"\n",
    "\n",
    "composite, attrs = wrl.io.radolan.read_radolan_composite(filepath)\n",
    "composite = np.float32(composite)\n",
    "\n",
    "datetime = attrs['datetime']\n",
    "producttype = attrs['producttype']\n",
    "nodataflag  = attrs['nodataflag']\n",
    "secondary = attrs['secondary']\n",
    "\n",
    "if secondary is not None:\n",
    "    composite.flat[secondary] = nodataflag\n"
   ]
  },
  {
   "cell_type": "code",
   "execution_count": 56,
   "metadata": {},
   "outputs": [],
   "source": [
    "proj_stereo = wrl.georef.create_osr(\"dwd-radolan\")\n",
    "proj_wgs = osr.SpatialReference()\n",
    "proj_wgs.ImportFromEPSG(4326)\n",
    "proj_utm32 = osr.SpatialReference()\n",
    "proj_utm32.ImportFromEPSG(32632)\n",
    "\n",
    "radolan_grid_xy = wrl.georef.get_radolan_grid(900,900)\n",
    "radolan_grid_ll = wrl.georef.reproject(radolan_grid_xy, projection_source=proj_stereo, projection_target=proj_wgs)\n",
    "radolan_grid_utm32 = wrl.georef.reproject(radolan_grid_ll, projection_source=proj_wgs, projection_target=proj_utm32)"
   ]
  },
  {
   "cell_type": "code",
   "execution_count": 57,
   "metadata": {},
   "outputs": [],
   "source": [
    "# write as geotiff WGS84\n",
    "reduced = np.array(composite, copy=True)\n",
    "reduced[reduced > 0.0] = reduced[reduced > 0.0] * 10\n",
    "reduced = reduced.astype(np.int16)\n",
    "\n",
    "data, xy = wrl.georef.set_raster_origin(reduced, radolan_grid_utm32, 'upper')\n",
    "ds = wrl.georef.create_raster_dataset(data, xy, projection=proj_utm32)\n",
    "\n",
    "filename = \"test.tif\"\n",
    "wrl.io.write_raster_dataset(filename, ds, 'GTiff')"
   ]
  }
 ],
 "metadata": {
  "kernelspec": {
   "display_name": "Python 3",
   "language": "python",
   "name": "python3"
  },
  "language_info": {
   "codemirror_mode": {
    "name": "ipython",
    "version": 3
   },
   "file_extension": ".py",
   "mimetype": "text/x-python",
   "name": "python",
   "nbconvert_exporter": "python",
   "pygments_lexer": "ipython3",
   "version": "3.6.9"
  }
 },
 "nbformat": 4,
 "nbformat_minor": 4
}
