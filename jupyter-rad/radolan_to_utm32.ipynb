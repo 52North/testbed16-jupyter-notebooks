{
 "cells": [
  {
   "cell_type": "code",
   "execution_count": 1,
   "metadata": {},
   "outputs": [],
   "source": [
    "import os\n",
    "from datetime import datetime, date\n",
    "import tarfile\n",
    "import requests\n",
    "import wradlib as wrl\n",
    "import re\n",
    "import matplotlib.pyplot as plt\n",
    "\n",
    "import numpy as np\n",
    "import osr\n",
    "\n",
    "import pathlib"
   ]
  },
  {
   "cell_type": "code",
   "execution_count": 2,
   "metadata": {},
   "outputs": [],
   "source": [
    "RADOLAN_FTP_URL = \"https://opendata.dwd.de/climate_environment/CDC/grids_germany/daily/radolan/historical/bin/2017/SF201707.tar.gz\"\n",
    "\n",
    "START_DATE = datetime(2017, 7, 24)\n",
    "END_DATE = datetime(2017, 7, 27)\n",
    "\n",
    "GEOTIFF_OUTPUT_FOLDER = \"./gtiff/\"\n",
    "pathlib.Path(GEOTIFF_OUTPUT_FOLDER).mkdir(parents=True, exist_ok=True)"
   ]
  },
  {
   "cell_type": "code",
   "execution_count": 3,
   "metadata": {},
   "outputs": [
    {
     "name": "stdout",
     "output_type": "stream",
     "text": [
      "Successfully downloaded\n"
     ]
    }
   ],
   "source": [
    "# download archive\n",
    "r = requests.get(RADOLAN_FTP_URL, stream=True)\n",
    "with open(\"output.tar.gz\", \"wb\") as output:\n",
    "    output.write(r.content)\n",
    "    \n",
    "# extract archive into temp\n",
    "tar = tarfile.open(\"output.tar.gz\", \"r:gz\")\n",
    "tar.extractall(path=\"/tmp/radolan\")\n",
    "tar.close()\n",
    "\n",
    "print(\"Successfully downloaded\")"
   ]
  },
  {
   "cell_type": "code",
   "execution_count": 4,
   "metadata": {},
   "outputs": [
    {
     "name": "stdout",
     "output_type": "stream",
     "text": [
      "Found 72 radolan files\n"
     ]
    }
   ],
   "source": [
    "name_regex='raa01-sf_10000-(.+?)-dwd---bin'\n",
    "date_format='%y%m%d%H%M'\n",
    "\n",
    "def datetime_is_between(target, dt_start, dt_end):\n",
    "    if dt_start is not None and dt_end is not None:\n",
    "        return dt_start <= target <= dt_end\n",
    "    elif dt_start is not None:\n",
    "        return dt_start <= target\n",
    "    elif dt_end is not None:\n",
    "        return target <= dt_end\n",
    "    else:\n",
    "        return True\n",
    "    \n",
    "def parse_date(filename):\n",
    "    match = re.search(name_regex, filename)\n",
    "    if match:\n",
    "        found = match.group(1)\n",
    "        result_dt = datetime.strptime(found, date_format)\n",
    "        return result_dt\n",
    "    return None\n",
    "\n",
    "files = [os.path.join(\"/tmp/radolan\", f) for f in os.listdir(\"/tmp/radolan/\") if datetime_is_between(parse_date(f), START_DATE, END_DATE)]\n",
    "files.sort(key=lambda filename: parse_date(filename))\n",
    "print(f\"Found {len(files)} radolan files\")"
   ]
  },
  {
   "cell_type": "code",
   "execution_count": 5,
   "metadata": {},
   "outputs": [],
   "source": [
    "# function for reading radolan files and removing secondary\n",
    "def read_radolan(filename):\n",
    "    composite, attrs = wrl.io.radolan.read_radolan_composite(filename)\n",
    "    composite = np.float32(composite)\n",
    "\n",
    "    datetime = attrs['datetime']\n",
    "    producttype = attrs['producttype']\n",
    "    nodataflag  = attrs['nodataflag']\n",
    "    secondary = attrs['secondary']\n",
    "\n",
    "    if secondary is not None:\n",
    "        composite.flat[secondary] = nodataflag\n",
    "        composite = np.ma.masked_equal(composite, -9999)\n",
    "\n",
    "    return datetime, composite"
   ]
  },
  {
   "cell_type": "code",
   "execution_count": 6,
   "metadata": {},
   "outputs": [],
   "source": [
    "# create projections\n",
    "proj_stereo = wrl.georef.create_osr(\"dwd-radolan\")\n",
    "proj_wgs = osr.SpatialReference()\n",
    "proj_wgs.ImportFromEPSG(4326)\n",
    "proj_utm32 = osr.SpatialReference()\n",
    "proj_utm32.ImportFromEPSG(32632)\n",
    "\n",
    "radolan_grid_xy = wrl.georef.get_radolan_grid(900,900)\n",
    "radolan_grid_ll = wrl.georef.reproject(radolan_grid_xy, projection_source=proj_stereo, projection_target=proj_wgs)\n",
    "radolan_grid_utm32 = wrl.georef.reproject(radolan_grid_ll, projection_source=proj_wgs, projection_target=proj_utm32)"
   ]
  },
  {
   "cell_type": "code",
   "execution_count": 7,
   "metadata": {},
   "outputs": [],
   "source": [
    "# write as geotiff WGS84\n",
    "for filename in files:\n",
    "    datetime, composite = read_radolan(filename)\n",
    "    \n",
    "    reduced = np.array(composite, copy=True)\n",
    "    reduced[reduced > 0.0] = reduced[reduced > 0.0] * 10\n",
    "    reduced = reduced.astype(np.int16)\n",
    "\n",
    "    data, xy = wrl.georef.set_raster_origin(reduced, radolan_grid_utm32, 'upper')\n",
    "    ds = wrl.georef.create_raster_dataset(data, xy, projection=proj_utm32, nodata=-9999)\n",
    "\n",
    "    filename = os.path.join(GEOTIFF_OUTPUT_FOLDER, filename + \".tif\")\n",
    "    wrl.io.write_raster_dataset(filename, ds, 'GTiff')"
   ]
  },
  {
   "cell_type": "code",
   "execution_count": 8,
   "metadata": {},
   "outputs": [],
   "source": [
    "import imageio\n",
    "\n",
    "# Get coordinates\n",
    "radolan_grid_xy = wrl.georef.get_radolan_grid(900,900)\n",
    "x = radolan_grid_xy[:,:,0]\n",
    "y = radolan_grid_xy[:,:,1]\n",
    "\n",
    "\n",
    "def plot_radolan(data, clabel=None):\n",
    "    fig = plt.figure(figsize=(10,8))\n",
    "    ax = fig.add_subplot(111, aspect='equal')\n",
    "    pm = ax.pcolormesh(x, y, data, vmin=0, vmax=75, cmap='viridis')\n",
    "    cb = fig.colorbar(pm, shrink=0.75)\n",
    "    cb.set_label(clabel)\n",
    "    plt.xlabel(\"x [km]\")\n",
    "    plt.ylabel(\"y [km]\")\n",
    "    plt.xlim((x[0,0],x[-1,-1]))\n",
    "    plt.ylim((y[0,0],y[-1,-1]))\n",
    "    \n",
    "    fig.canvas.draw()\n",
    "    fig.canvas.flush_events()\n",
    "    image = np.frombuffer(fig.canvas.tostring_rgb(), dtype='uint8')\n",
    "    image = image.reshape(fig.canvas.get_width_height()[::-1] + (3,))\n",
    "    plt.close()\n",
    "    return image\n",
    " \n",
    "images = [plot_radolan(read_radolan(radfile)[1]) for radfile in files]\n",
    "imageio.mimsave(\"output.gif\", images, format='GIF', fps=5)"
   ]
  },
  {
   "cell_type": "code",
   "execution_count": 9,
   "metadata": {},
   "outputs": [
    {
     "data": {
      "text/html": [
       "<img src=\"output.gif\">"
      ],
      "text/plain": [
       "<IPython.core.display.HTML object>"
      ]
     },
     "execution_count": 9,
     "metadata": {},
     "output_type": "execute_result"
    }
   ],
   "source": [
    "from IPython import display\n",
    "display.HTML('<img src=\"{}\">'.format(\"output.gif\"))"
   ]
  },
  {
   "cell_type": "code",
   "execution_count": null,
   "metadata": {},
   "outputs": [],
   "source": []
  }
 ],
 "metadata": {
  "kernelspec": {
   "display_name": "Python 3",
   "language": "python",
   "name": "python3"
  },
  "language_info": {
   "codemirror_mode": {
    "name": "ipython",
    "version": 3
   },
   "file_extension": ".py",
   "mimetype": "text/x-python",
   "name": "python",
   "nbconvert_exporter": "python",
   "pygments_lexer": "ipython3",
   "version": "3.6.9"
  }
 },
 "nbformat": 4,
 "nbformat_minor": 4
}
