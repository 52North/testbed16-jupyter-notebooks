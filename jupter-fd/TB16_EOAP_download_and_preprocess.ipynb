{
 "cells": [
  {
   "cell_type": "markdown",
   "metadata": {},
   "source": [
    "# Sentinel-1 Preprocessing Workflow"
   ]
  },
  {
   "cell_type": "code",
   "execution_count": 1,
   "metadata": {},
   "outputs": [],
   "source": [
    "import os\n",
    "from pathlib import Path\n",
    "from datetime import date\n",
    "\n",
    "import gc\n",
    "gc.enable()\n",
    "\n",
    "# snappy imports\n",
    "import snappy\n",
    "from snappy import ProductIO, GPF\n",
    "\n",
    "from sentinelsat import SentinelAPI, read_geojson, geojson_to_wkt"
   ]
  },
  {
   "cell_type": "code",
   "execution_count": 2,
   "metadata": {
    "tags": [
     "parameters"
    ]
   },
   "outputs": [],
   "source": [
    "# scihub credentials\n",
    "SCIHUB_UN = %env SCIHUB_UN\n",
    "SCIHUB_PW = %env SCIHUB_WP\n",
    "\n",
    "# request parameters - more TBD\n",
    "REQUEST_AREA = \"POLYGON ((6.2567138671875 51.57536261053028, 6.7160797119140625 51.57536261053028, 6.7160797119140625 51.78865666323309, 6.2567138671875 51.78865666323309, 6.2567138671875 51.57536261053028))\"\n",
    "\n",
    "# output directories \n",
    "TMP_OUTPUT_DIR = \"./output/tmp/\"\n",
    "FNL_OUTPUT_DIR = \"./output/\""
   ]
  },
  {
   "cell_type": "code",
   "execution_count": 3,
   "metadata": {},
   "outputs": [],
   "source": [
    "Path(TMP_OUTPUT_DIR).mkdir(parents=True, exist_ok=True)\n",
    "Path(FNL_OUTPUT_DIR).mkdir(parents=True, exist_ok=True)"
   ]
  },
  {
   "cell_type": "markdown",
   "metadata": {},
   "source": [
    "## Download of Sentinel-1 Data"
   ]
  },
  {
   "cell_type": "code",
   "execution_count": 4,
   "metadata": {},
   "outputs": [
    {
     "data": {
      "text/plain": [
       "{'id': 'c001a5c2-db67-403e-9ad6-0c6e6a0d903d',\n",
       " 'title': 'S1A_IW_GRDH_1SDV_20200108T171637_20200108T171702_030712_038551_49A5',\n",
       " 'size': 1066808464,\n",
       " 'md5': 'CBB5DE416FB75C93F6DE42541C0D5A2B',\n",
       " 'date': datetime.datetime(2020, 1, 8, 17, 16, 37, 154000),\n",
       " 'footprint': 'POLYGON((5.876818 51.839985,9.613271 52.246746,9.989347 50.751972,6.371759 50.347618,5.876818 51.839985))',\n",
       " 'url': \"https://scihub.copernicus.eu/apihub/odata/v1/Products('c001a5c2-db67-403e-9ad6-0c6e6a0d903d')/$value\",\n",
       " 'Online': True,\n",
       " 'Creation Date': datetime.datetime(2020, 1, 9, 0, 29, 1, 991000),\n",
       " 'Ingestion Date': datetime.datetime(2020, 1, 9, 0, 28, 54, 878000),\n",
       " 'path': './output/S1A_IW_GRDH_1SDV_20200108T171637_20200108T171702_030712_038551_49A5.zip',\n",
       " 'downloaded_bytes': 0}"
      ]
     },
     "execution_count": 4,
     "metadata": {},
     "output_type": "execute_result"
    }
   ],
   "source": [
    "# request API\n",
    "api = SentinelAPI(SCIHUB_UN, SCIHUB_PW)\n",
    "products = api.query(\n",
    "    area=REQUEST_AREA, \n",
    "    producttype='GRD',\n",
    "    date=(date(2020, 1, 8), date(2020,1,9)),\n",
    "    platformname = \"Sentinel-1\")\n",
    "\n",
    "# just get the first item\n",
    "first_product = products.popitem()\n",
    "s1_raw_filename = first_product[1]['title'] + \".zip\"\n",
    "\n",
    "# download file (doesn't get downloaded if already exists)\n",
    "downloaded_file = api.download(first_product[0], directory_path=FNL_OUTPUT_DIR)\n",
    "downloaded_file"
   ]
  },
  {
   "cell_type": "code",
   "execution_count": 5,
   "metadata": {},
   "outputs": [
    {
     "data": {
      "text/html": [
       "<div style=\"width:100%;\"><div style=\"position:relative;width:100%;height:0;padding-bottom:60%;\"><iframe src=\"about:blank\" style=\"position:absolute;width:100%;height:100%;left:0;top:0;border:none !important;\" data-html=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 onload=\"this.contentDocument.open();this.contentDocument.write(atob(this.getAttribute('data-html')));this.contentDocument.close();\" allowfullscreen webkitallowfullscreen mozallowfullscreen></iframe></div></div>"
      ],
      "text/plain": [
       "<folium.folium.Map at 0x7f42effb2c50>"
      ]
     },
     "execution_count": 5,
     "metadata": {},
     "output_type": "execute_result"
    }
   ],
   "source": [
    "import folium\n",
    "from shapely import wkt, geometry\n",
    "\n",
    "dataset_footprint = wkt.loads(downloaded_file['footprint'])\n",
    "aoi_footprint = wkt.loads(REQUEST_AREA)\n",
    "\n",
    "m = folium.Map(zoom_starts=3)\n",
    "m.fit_bounds((\n",
    "    (dataset_footprint.bounds[1], dataset_footprint.bounds[0]), \n",
    "    (dataset_footprint.bounds[3], dataset_footprint.bounds[2])))\n",
    "folium.GeoJson(dataset_footprint).add_to(m)\n",
    "folium.GeoJson(aoi_footprint).add_to(m)\n",
    "m"
   ]
  },
  {
   "cell_type": "markdown",
   "metadata": {},
   "source": [
    "## Preprocessing using snappy"
   ]
  },
  {
   "cell_type": "code",
   "execution_count": 6,
   "metadata": {},
   "outputs": [],
   "source": [
    "# Some initial configurations\n",
    "snappy.GPF.getDefaultInstance().getOperatorSpiRegistry().loadOperatorSpis()\n",
    "sentinel_image = ProductIO.readProduct(downloaded_file['path'])\n",
    "HashMap = snappy.jpy.get_type('java.util.HashMap')"
   ]
  },
  {
   "cell_type": "code",
   "execution_count": 7,
   "metadata": {},
   "outputs": [
    {
     "name": "stdout",
     "output_type": "stream",
     "text": [
      "CPU times: user 37.4 s, sys: 5.69 s, total: 43.1 s\n",
      "Wall time: 48.7 s\n"
     ]
    }
   ],
   "source": [
    "%%time\n",
    "# Step: Apply Orbit Files\n",
    "step1_output = os.path.join(TMP_OUTPUT_DIR, \"step1_orbit_files\") \n",
    "\n",
    "# parameters\n",
    "parameters = HashMap()\n",
    "\n",
    "# create and write product\n",
    "step1_product = GPF.createProduct(\"Apply-Orbit-File\", parameters, sentinel_image)\n",
    "ProductIO.writeProduct(step1_product, step1_output, 'BEAM-DIMAP')  "
   ]
  },
  {
   "cell_type": "code",
   "execution_count": 8,
   "metadata": {},
   "outputs": [
    {
     "name": "stdout",
     "output_type": "stream",
     "text": [
      "CPU times: user 2min 11s, sys: 9.14 s, total: 2min 20s\n",
      "Wall time: 2min 11s\n"
     ]
    }
   ],
   "source": [
    "%%time\n",
    "# Step: Calibration\n",
    "step2_output = os.path.join(TMP_OUTPUT_DIR, \"step2_calibration\")\n",
    "\n",
    "parameters = HashMap()\n",
    "parameters.put('outputSigmaBand', True)\n",
    "parameters.put('outputImageScaleInDb', False)\n",
    "\n",
    "step2_product = snappy.GPF.createProduct(\"Calibration\", parameters, ProductIO.readProduct(step1_output + \".dim\"))\n",
    "ProductIO.writeProduct(step2_product, step2_output, 'BEAM-DIMAP')"
   ]
  },
  {
   "cell_type": "code",
   "execution_count": 9,
   "metadata": {},
   "outputs": [
    {
     "name": "stdout",
     "output_type": "stream",
     "text": [
      "CPU times: user 1.82 s, sys: 554 ms, total: 2.38 s\n",
      "Wall time: 2.03 s\n"
     ]
    }
   ],
   "source": [
    "%%time\n",
    "# Step: Subsetting to area of interest\n",
    "step3_output = os.path.join(TMP_OUTPUT_DIR, \"step3_subset\")\n",
    "\n",
    "WKTReader = snappy.jpy.get_type('com.vividsolutions.jts.io.WKTReader')\n",
    "geom = WKTReader().read(REQUEST_AREA)\n",
    "\n",
    "parameters = HashMap()\n",
    "parameters.put(\"geoRegion\", geom)\n",
    "parameters.put(\"outputImageScaleInDb\", False)\n",
    "\n",
    "step3_product = GPF.createProduct(\"Subset\", parameters, ProductIO.readProduct(step2_output + \".dim\"))\n",
    "ProductIO.writeProduct(step3_product, step3_output, 'BEAM-DIMAP')"
   ]
  },
  {
   "cell_type": "code",
   "execution_count": 10,
   "metadata": {},
   "outputs": [
    {
     "name": "stdout",
     "output_type": "stream",
     "text": [
      "CPU times: user 4.52 s, sys: 190 ms, total: 4.71 s\n",
      "Wall time: 3.92 s\n"
     ]
    }
   ],
   "source": [
    "%%time\n",
    "# Step: Speckle Filtering\n",
    "step4_output = os.path.join(TMP_OUTPUT_DIR, \"step4_speckle\")\n",
    "\n",
    "parameters = HashMap()\n",
    "parameters.put(\"filter\", \"Lee\")\n",
    "parameters.put(\"filterSizeX\", 5)\n",
    "parameters.put(\"filterSizeY\", 5)\n",
    "\n",
    "step4_product = GPF.createProduct(\"Speckle-Filter\", parameters, ProductIO.readProduct(step3_output + \".dim\"))\n",
    "ProductIO.writeProduct(step4_product, step4_output, \"BEAM-DIMAP\")"
   ]
  },
  {
   "cell_type": "code",
   "execution_count": 11,
   "metadata": {},
   "outputs": [
    {
     "name": "stdout",
     "output_type": "stream",
     "text": [
      "CPU times: user 2min 49s, sys: 1.7 s, total: 2min 51s\n",
      "Wall time: 2min 33s\n"
     ]
    }
   ],
   "source": [
    "%%time\n",
    "# Step: Terrain Correction\n",
    "step5_output = os.path.join(FNL_OUTPUT_DIR, \"corrected_output\")\n",
    "\n",
    "parameters = HashMap()\n",
    "parameters.put('demName', 'SRTM 3Sec') \n",
    "parameters.put('pixelSpacingInMeter', 10.0) \n",
    "parameters.put('imgResamplingMethod', 'BILINEAR_INTERPOLATION') #BILINEAR_INTERPOLATION NEAREST_NEIGHBOUR\n",
    "parameters.put('demResamplingMethod', 'BILINEAR_INTERPOLATION') \n",
    "# <saveDEM>false</saveDEM>\n",
    "\n",
    "step5_product = GPF.createProduct(\"Terrain-Correction\", parameters, ProductIO.readProduct(step4_output + \".dim\")) \n",
    "ProductIO.writeProduct(step5_product, step5_output, 'GeoTIFF-BigTIFF')"
   ]
  }
 ],
 "metadata": {
  "celltoolbar": "Tags",
  "kernelspec": {
   "display_name": "Python 3",
   "language": "python",
   "name": "python3"
  },
  "language_info": {
   "codemirror_mode": {
    "name": "ipython",
    "version": 3
   },
   "file_extension": ".py",
   "mimetype": "text/x-python",
   "name": "python",
   "nbconvert_exporter": "python",
   "pygments_lexer": "ipython3",
   "version": "3.6.9"
  }
 },
 "nbformat": 4,
 "nbformat_minor": 4
}
