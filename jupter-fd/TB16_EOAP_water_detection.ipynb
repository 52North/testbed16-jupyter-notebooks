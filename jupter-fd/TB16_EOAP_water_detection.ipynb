{
 "cells": [
  {
   "cell_type": "markdown",
   "metadata": {},
   "source": [
    "# Sentinel-1 Preprocessing Workflow"
   ]
  },
  {
   "cell_type": "code",
   "execution_count": 1,
   "metadata": {},
   "outputs": [],
   "source": [
    "import os\n",
    "from pathlib import Path\n",
    "from datetime import datetime\n",
    "\n",
    "import gc\n",
    "gc.enable()\n",
    "\n",
    "# snappy imports\n",
    "import snappy\n",
    "from snappy import ProductIO, GPF\n",
    "\n",
    "from sentinelsat import SentinelAPI, read_geojson, geojson_to_wkt"
   ]
  },
  {
   "cell_type": "code",
   "execution_count": 2,
   "metadata": {
    "tags": [
     "parameters"
    ]
   },
   "outputs": [],
   "source": [
    "# scihub credentials\n",
    "SCIHUB_UN = %env SCIHUB_UN\n",
    "SCIHUB_PW = %env SCIHUB_WP\n",
    "\n",
    "# request parameters - more TBD\n",
    "REQUEST_AREA = \"POLYGON ((6.2567138671875 51.57536261053028, 6.7160797119140625 51.57536261053028, 6.7160797119140625 51.78865666323309, 6.2567138671875 51.78865666323309, 6.2567138671875 51.57536261053028))\"\n",
    "\n",
    "# output directories \n",
    "TMP_OUTPUT_DIR = \"./output/tmp/\"\n",
    "FNL_OUTPUT_DIR = \"./output/\""
   ]
  },
  {
   "cell_type": "code",
   "execution_count": 3,
   "metadata": {},
   "outputs": [],
   "source": [
    "Path(TMP_OUTPUT_DIR).mkdir(parents=True, exist_ok=True)\n",
    "Path(FNL_OUTPUT_DIR).mkdir(parents=True, exist_ok=True)"
   ]
  },
  {
   "cell_type": "markdown",
   "metadata": {},
   "source": [
    "## Download of Sentinel-1 Data"
   ]
  },
  {
   "cell_type": "code",
   "execution_count": null,
   "metadata": {},
   "outputs": [],
   "source": [
    "# request API\n",
    "api = SentinelAPI(SCIHUB_UN, SCIHUB_PW)\n",
    "products = api.query(\n",
    "    area=AOI_WKT, \n",
    "    producttype='GRD',\n",
    "    date=(date(2020, 1, 8), date(2020,1,9)),\n",
    "    platformname = \"Sentinel-1\")\n",
    "\n",
    "# just get the first item\n",
    "first_product = products.popitem()\n",
    "s1_raw_filename = first_product[1]['title'] + \".zip\"\n",
    "\n",
    "# download file (doesn't get downloaded if already exists)\n",
    "downloaded_file = api.download(first_product[0], directory_path=FNL_OUTPUT_DIR)\n",
    "downloaded_file"
   ]
  },
  {
   "cell_type": "code",
   "execution_count": null,
   "metadata": {},
   "outputs": [],
   "source": [
    "import folium\n",
    "from shapely import wkt, geometry\n",
    "\n",
    "dataset_footprint = wkt.loads(downloaded_file['footprint'])\n",
    "aoi_footprint = wkt.loads(AOI_WKT)\n",
    "\n",
    "m = folium.Map(zoom_starts=3)\n",
    "m.fit_bounds((\n",
    "    (dataset_footprint.bounds[1], dataset_footprint.bounds[0]), \n",
    "    (dataset_footprint.bounds[3], dataset_footprint.bounds[2])))\n",
    "folium.GeoJson(dataset_footprint).add_to(m)\n",
    "folium.GeoJson(aoi_footprint).add_to(m)\n",
    "m"
   ]
  },
  {
   "cell_type": "code",
   "execution_count": null,
   "metadata": {},
   "outputs": [],
   "source": []
  }
 ],
 "metadata": {
  "celltoolbar": "Tags",
  "kernelspec": {
   "display_name": "Python 3",
   "language": "python",
   "name": "python3"
  },
  "language_info": {
   "codemirror_mode": {
    "name": "ipython",
    "version": 3
   },
   "file_extension": ".py",
   "mimetype": "text/x-python",
   "name": "python",
   "nbconvert_exporter": "python",
   "pygments_lexer": "ipython3",
   "version": "3.6.9"
  }
 },
 "nbformat": 4,
 "nbformat_minor": 4
}
