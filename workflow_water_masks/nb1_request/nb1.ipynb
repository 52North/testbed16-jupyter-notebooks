{
 "cells": [
  {
   "cell_type": "code",
   "execution_count": null,
   "metadata": {},
   "outputs": [],
   "source": [
    "import os\n",
    "from pathlib import Path\n",
    "from datetime import date\n",
    "\n",
    "import sentinelsat\n",
    "from sentinelsat import SentinelAPI, read_geojson, geojson_to_wkt\n",
    "\n",
    "import scrapbook as sb"
   ]
  },
  {
   "cell_type": "code",
   "execution_count": null,
   "metadata": {},
   "outputs": [],
   "source": [
    "# scihub credentials\n",
    "SCIHUB_UN = %env SCIHUB_UN\n",
    "SCIHUB_PW = %env SCIHUB_WP\n",
    "\n",
    "# request parameters - more TBD\n",
    "REQUEST_AREA = \"POLYGON ((6.2567138671875 51.57536261053028, 6.7160797119140625 51.57536261053028, 6.7160797119140625 51.78865666323309, 6.2567138671875 51.78865666323309, 6.2567138671875 51.57536261053028))\"\n",
    "\n",
    "# output directories \n",
    "TMP_OUTPUT_DIR = \"./output/tmp/\"\n",
    "FNL_OUTPUT_DIR = \"./output/\""
   ]
  },
  {
   "cell_type": "code",
   "execution_count": null,
   "metadata": {},
   "outputs": [],
   "source": [
    "# request API\n",
    "api = SentinelAPI(SCIHUB_UN, SCIHUB_PW)\n",
    "products = api.query(\n",
    "    area=REQUEST_AREA, \n",
    "    producttype='GRD',\n",
    "    date=(date(2020, 1, 8), date(2020,1,12)),\n",
    "    platformname = \"Sentinel-1\")\n",
    "\n",
    "# just get the first item\n",
    "s1_keys = list(products.keys())\n",
    "s1_keys"
   ]
  },
  {
   "cell_type": "code",
   "execution_count": null,
   "metadata": {},
   "outputs": [],
   "source": [
    "sb.glue(\"s1_dataset_ids\", s1_keys)"
   ]
  }
 ],
 "metadata": {
  "kernelspec": {
   "display_name": "Python 3",
   "language": "python",
   "name": "python3"
  },
  "language_info": {
   "codemirror_mode": {
    "name": "ipython",
    "version": 3
   },
   "file_extension": ".py",
   "mimetype": "text/x-python",
   "name": "python",
   "nbconvert_exporter": "python",
   "pygments_lexer": "ipython3",
   "version": "3.8.2"
  }
 },
 "nbformat": 4,
 "nbformat_minor": 4
}
