{
 "cells": [
  {
   "cell_type": "code",
   "execution_count": 1,
   "metadata": {},
   "outputs": [],
   "source": [
    "import geopandas as gpd\n",
    "import json\n",
    "import warnings\n",
    "import os\n",
    "import sys\n",
    "\n",
    "warnings.filterwarnings('ignore')\n"
   ]
  },
  {
   "cell_type": "code",
   "execution_count": 2,
   "metadata": {},
   "outputs": [],
   "source": [
    "import math\n",
    "\n",
    "def deg2num(lat_deg, lon_deg, zoom):\n",
    "    lat_rad = math.radians(lat_deg)\n",
    "    n = 2.0 ** zoom\n",
    "    xtile = int((lon_deg + 180.0) / 360.0 * n)\n",
    "    ytile = int((1.0 - math.log(math.tan(lat_rad) + (1 / math.cos(lat_rad))) / math.pi) / 2.0 * n)\n",
    "    return (xtile, ytile)\n",
    "  "
   ]
  },
  {
   "cell_type": "code",
   "execution_count": 12,
   "metadata": {
    "tags": [
     "parameters"
    ]
   },
   "outputs": [],
   "source": [
    "filename = 'aoi.geojson'\n",
    "outputFilename = 'tile-urls.json'\n",
    "tileBaseUrl = \"https://eratosthenes.pvretano.com/cubewerx/cubeserv/default/ogcapi/mysql_tb16/collections/waterbody_2_50k/map/Water Body 2 Style/tiles/smerc_512/%s/%s/%s.png\"\n",
    "zoomLevel = 8\n",
    "downloadFolder = './training'"
   ]
  },
  {
   "cell_type": "code",
   "execution_count": 13,
   "metadata": {},
   "outputs": [
    {
     "data": {
      "text/html": [
       "<div>\n",
       "<style scoped>\n",
       "    .dataframe tbody tr th:only-of-type {\n",
       "        vertical-align: middle;\n",
       "    }\n",
       "\n",
       "    .dataframe tbody tr th {\n",
       "        vertical-align: top;\n",
       "    }\n",
       "\n",
       "    .dataframe thead th {\n",
       "        text-align: right;\n",
       "    }\n",
       "</style>\n",
       "<table border=\"1\" class=\"dataframe\">\n",
       "  <thead>\n",
       "    <tr style=\"text-align: right;\">\n",
       "      <th></th>\n",
       "      <th>geometry</th>\n",
       "    </tr>\n",
       "  </thead>\n",
       "  <tbody>\n",
       "    <tr>\n",
       "      <th>0</th>\n",
       "      <td>POLYGON ((-111.40137 62.99516, -107.27051 62.9...</td>\n",
       "    </tr>\n",
       "  </tbody>\n",
       "</table>\n",
       "</div>"
      ],
      "text/plain": [
       "                                            geometry\n",
       "0  POLYGON ((-111.40137 62.99516, -107.27051 62.9..."
      ]
     },
     "execution_count": 13,
     "metadata": {},
     "output_type": "execute_result"
    }
   ],
   "source": [
    "gj = gpd.read_file(filename)\n",
    "gj.head()"
   ]
  },
  {
   "cell_type": "code",
   "execution_count": 14,
   "metadata": {},
   "outputs": [
    {
     "data": {
      "text/plain": [
       "64.69910544204765"
      ]
     },
     "execution_count": 14,
     "metadata": {},
     "output_type": "execute_result"
    }
   ],
   "source": [
    "minLat = gj.head().bounds.miny[0]\n",
    "maxLat = gj.head().bounds.maxy[0]\n",
    "minLon = gj.head().bounds.minx[0]\n",
    "maxLon = gj.head().bounds.maxx[0]\n",
    "maxLat"
   ]
  },
  {
   "cell_type": "code",
   "execution_count": 15,
   "metadata": {},
   "outputs": [
    {
     "data": {
      "text/plain": [
       "(48, 69)"
      ]
     },
     "execution_count": 15,
     "metadata": {},
     "output_type": "execute_result"
    }
   ],
   "source": [
    "topLeftTile = deg2num(minLat,minLon,zoomLevel)\n",
    "topLeftTile"
   ]
  },
  {
   "cell_type": "code",
   "execution_count": 16,
   "metadata": {},
   "outputs": [
    {
     "data": {
      "text/plain": [
       "(51, 67)"
      ]
     },
     "execution_count": 16,
     "metadata": {},
     "output_type": "execute_result"
    }
   ],
   "source": [
    "bottomRightTile = deg2num(maxLat,maxLon,zoomLevel)\n",
    "bottomRightTile"
   ]
  },
  {
   "cell_type": "code",
   "execution_count": 21,
   "metadata": {},
   "outputs": [
    {
     "data": {
      "text/plain": [
       "{'8_67_48.png': 'https://eratosthenes.pvretano.com/cubewerx/cubeserv/default/ogcapi/mysql_tb16/collections/waterbody_2_50k/map/Water Body 2 Style/tiles/smerc_512/8/67/48.png',\n",
       " '8_68_48.png': 'https://eratosthenes.pvretano.com/cubewerx/cubeserv/default/ogcapi/mysql_tb16/collections/waterbody_2_50k/map/Water Body 2 Style/tiles/smerc_512/8/68/48.png',\n",
       " '8_69_48.png': 'https://eratosthenes.pvretano.com/cubewerx/cubeserv/default/ogcapi/mysql_tb16/collections/waterbody_2_50k/map/Water Body 2 Style/tiles/smerc_512/8/69/48.png',\n",
       " '8_67_49.png': 'https://eratosthenes.pvretano.com/cubewerx/cubeserv/default/ogcapi/mysql_tb16/collections/waterbody_2_50k/map/Water Body 2 Style/tiles/smerc_512/8/67/49.png',\n",
       " '8_68_49.png': 'https://eratosthenes.pvretano.com/cubewerx/cubeserv/default/ogcapi/mysql_tb16/collections/waterbody_2_50k/map/Water Body 2 Style/tiles/smerc_512/8/68/49.png',\n",
       " '8_69_49.png': 'https://eratosthenes.pvretano.com/cubewerx/cubeserv/default/ogcapi/mysql_tb16/collections/waterbody_2_50k/map/Water Body 2 Style/tiles/smerc_512/8/69/49.png',\n",
       " '8_67_50.png': 'https://eratosthenes.pvretano.com/cubewerx/cubeserv/default/ogcapi/mysql_tb16/collections/waterbody_2_50k/map/Water Body 2 Style/tiles/smerc_512/8/67/50.png',\n",
       " '8_68_50.png': 'https://eratosthenes.pvretano.com/cubewerx/cubeserv/default/ogcapi/mysql_tb16/collections/waterbody_2_50k/map/Water Body 2 Style/tiles/smerc_512/8/68/50.png',\n",
       " '8_69_50.png': 'https://eratosthenes.pvretano.com/cubewerx/cubeserv/default/ogcapi/mysql_tb16/collections/waterbody_2_50k/map/Water Body 2 Style/tiles/smerc_512/8/69/50.png',\n",
       " '8_67_51.png': 'https://eratosthenes.pvretano.com/cubewerx/cubeserv/default/ogcapi/mysql_tb16/collections/waterbody_2_50k/map/Water Body 2 Style/tiles/smerc_512/8/67/51.png',\n",
       " '8_68_51.png': 'https://eratosthenes.pvretano.com/cubewerx/cubeserv/default/ogcapi/mysql_tb16/collections/waterbody_2_50k/map/Water Body 2 Style/tiles/smerc_512/8/68/51.png',\n",
       " '8_69_51.png': 'https://eratosthenes.pvretano.com/cubewerx/cubeserv/default/ogcapi/mysql_tb16/collections/waterbody_2_50k/map/Water Body 2 Style/tiles/smerc_512/8/69/51.png'}"
      ]
     },
     "execution_count": 21,
     "metadata": {},
     "output_type": "execute_result"
    }
   ],
   "source": [
    "resultUrls = {}\n",
    "\n",
    "result = \"\"\n",
    "for x in range(topLeftTile[0], bottomRightTile[0] + 1):\n",
    "    for y in range(bottomRightTile[1], topLeftTile[1] + 1):\n",
    "        result = tileBaseUrl%(zoomLevel, y, x)\n",
    "        resultUrls[\"%s_%s_%s.png\"%(zoomLevel, y, x)] = result\n",
    "        \n",
    "resultUrls\n"
   ]
  },
  {
   "cell_type": "code",
   "execution_count": 22,
   "metadata": {},
   "outputs": [],
   "source": [
    "import json\n",
    "\n",
    "with open(outputFilename, 'w') as outfile:\n",
    "    json.dump(resultUrls, outfile)"
   ]
  },
  {
   "cell_type": "code",
   "execution_count": 25,
   "metadata": {},
   "outputs": [
    {
     "data": {
      "text/plain": [
       "'start to download 12 tiles'"
      ]
     },
     "execution_count": 25,
     "metadata": {},
     "output_type": "execute_result"
    }
   ],
   "source": [
    "import shutil\n",
    "\n",
    "# clear the target folder\n",
    "#if os.path.exists(downloadFolder) and os.path.isdir(downloadFolder):\n",
    "#    shutil.rmtree(downloadFolder)\n",
    "\n",
    "for root, dirs, files in os.walk(downloadFolder):\n",
    "    for f in files:\n",
    "        os.unlink(os.path.join(root, f))\n",
    "\n",
    "# re-create the target folder\n",
    "if not os.path.exists(downloadFolder):\n",
    "    os.makedirs(downloadFolder)\n",
    "\n",
    "'start to download %s tiles'%(len(resultUrls))\n"
   ]
  },
  {
   "cell_type": "code",
   "execution_count": 26,
   "metadata": {},
   "outputs": [
    {
     "data": {
      "text/plain": [
       "'downloaded 12 tiles to ./training'"
      ]
     },
     "execution_count": 26,
     "metadata": {},
     "output_type": "execute_result"
    }
   ],
   "source": [
    "import requests\n",
    "    \n",
    "for fileName, targetUrl in resultUrls.items():\n",
    "    r = requests.get(targetUrl, allow_redirects=True)\n",
    "    open(downloadFolder + '/' + fileName, 'wb').write(r.content)\n",
    "    \n",
    "'downloaded %s tiles to %s'%(len(resultUrls), downloadFolder)"
   ]
  },
  {
   "cell_type": "code",
   "execution_count": null,
   "metadata": {},
   "outputs": [],
   "source": []
  }
 ],
 "metadata": {
  "celltoolbar": "Tags",
  "kernelspec": {
   "display_name": "Python 3",
   "language": "python",
   "name": "python3"
  },
  "language_info": {
   "codemirror_mode": {
    "name": "ipython",
    "version": 3
   },
   "file_extension": ".py",
   "mimetype": "text/x-python",
   "name": "python",
   "nbconvert_exporter": "python",
   "pygments_lexer": "ipython3",
   "version": "3.8.5"
  }
 },
 "nbformat": 4,
 "nbformat_minor": 4
}
