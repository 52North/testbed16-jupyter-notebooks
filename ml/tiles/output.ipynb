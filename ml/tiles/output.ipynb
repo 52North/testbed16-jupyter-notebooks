{
 "cells": [
  {
   "cell_type": "code",
   "execution_count": 1,
   "metadata": {
    "execution": {
     "iopub.execute_input": "2020-09-25T09:23:42.939347Z",
     "iopub.status.busy": "2020-09-25T09:23:42.938675Z",
     "iopub.status.idle": "2020-09-25T09:23:43.146693Z",
     "shell.execute_reply": "2020-09-25T09:23:43.146316Z"
    },
    "papermill": {
     "duration": 0.22322,
     "end_time": "2020-09-25T09:23:43.146781",
     "exception": false,
     "start_time": "2020-09-25T09:23:42.923561",
     "status": "completed"
    },
    "tags": []
   },
   "outputs": [],
   "source": [
    "import geopandas as gpd\n",
    "import json\n",
    "import warnings\n",
    "import os\n",
    "import sys\n",
    "\n",
    "warnings.filterwarnings('ignore')\n"
   ]
  },
  {
   "cell_type": "code",
   "execution_count": 2,
   "metadata": {
    "execution": {
     "iopub.execute_input": "2020-09-25T09:23:43.158135Z",
     "iopub.status.busy": "2020-09-25T09:23:43.157774Z",
     "iopub.status.idle": "2020-09-25T09:23:43.159475Z",
     "shell.execute_reply": "2020-09-25T09:23:43.159119Z"
    },
    "papermill": {
     "duration": 0.008481,
     "end_time": "2020-09-25T09:23:43.159545",
     "exception": false,
     "start_time": "2020-09-25T09:23:43.151064",
     "status": "completed"
    },
    "tags": []
   },
   "outputs": [],
   "source": [
    "import math\n",
    "\n",
    "def deg2num(lat_deg, lon_deg, zoom):\n",
    "    lat_rad = math.radians(lat_deg)\n",
    "    n = 2.0 ** zoom\n",
    "    xtile = int((lon_deg + 180.0) / 360.0 * n)\n",
    "    ytile = int((1.0 - math.log(math.tan(lat_rad) + (1 / math.cos(lat_rad))) / math.pi) / 2.0 * n)\n",
    "    return (xtile, ytile)\n",
    "  "
   ]
  },
  {
   "cell_type": "code",
   "execution_count": 3,
   "metadata": {
    "execution": {
     "iopub.execute_input": "2020-09-25T09:23:43.169637Z",
     "iopub.status.busy": "2020-09-25T09:23:43.169274Z",
     "iopub.status.idle": "2020-09-25T09:23:43.171128Z",
     "shell.execute_reply": "2020-09-25T09:23:43.170755Z"
    },
    "papermill": {
     "duration": 0.007739,
     "end_time": "2020-09-25T09:23:43.171201",
     "exception": false,
     "start_time": "2020-09-25T09:23:43.163462",
     "status": "completed"
    },
    "tags": [
     "parameters"
    ]
   },
   "outputs": [],
   "source": [
    "filename = 'aoi.geojson'\n",
    "outputFilename = 'tile-urls.json'\n",
    "tileBaseUrl = \"https://eratosthenes.pvretano.com/cubewerx/cubeserv/default/ogcapi/mysql_tb16/collections/waterbody_2_50k/map/Water Body 2 Style/tiles/smerc_512/%s/%s/%s.png\"\n",
    "zoomLevel = 8\n",
    "downloadFolder = './training'"
   ]
  },
  {
   "cell_type": "code",
   "execution_count": 4,
   "metadata": {
    "execution": {
     "iopub.execute_input": "2020-09-25T09:23:43.181577Z",
     "iopub.status.busy": "2020-09-25T09:23:43.181215Z",
     "iopub.status.idle": "2020-09-25T09:23:43.182914Z",
     "shell.execute_reply": "2020-09-25T09:23:43.182551Z"
    },
    "papermill": {
     "duration": 0.007857,
     "end_time": "2020-09-25T09:23:43.182987",
     "exception": false,
     "start_time": "2020-09-25T09:23:43.175130",
     "status": "completed"
    },
    "tags": [
     "injected-parameters"
    ]
   },
   "outputs": [],
   "source": [
    "# Parameters\n",
    "filename = \"aoi.geojson\"\n",
    "zoomLevel = 9\n",
    "tileBaseUrl = \"https://eratosthenes.pvretano.com/cubewerx/cubeserv/default/ogcapi/mysql_tb16/collections/sentinel1/map/default/tiles/smerc_512/%s/%s/%s.png\"\n",
    "downloadFolder = \"./training2\"\n"
   ]
  },
  {
   "cell_type": "code",
   "execution_count": 5,
   "metadata": {
    "execution": {
     "iopub.execute_input": "2020-09-25T09:23:43.201074Z",
     "iopub.status.busy": "2020-09-25T09:23:43.194039Z",
     "iopub.status.idle": "2020-09-25T09:23:43.210710Z",
     "shell.execute_reply": "2020-09-25T09:23:43.210283Z"
    },
    "papermill": {
     "duration": 0.023656,
     "end_time": "2020-09-25T09:23:43.210792",
     "exception": false,
     "start_time": "2020-09-25T09:23:43.187136",
     "status": "completed"
    },
    "tags": []
   },
   "outputs": [
    {
     "data": {
      "text/html": [
       "<div>\n",
       "<style scoped>\n",
       "    .dataframe tbody tr th:only-of-type {\n",
       "        vertical-align: middle;\n",
       "    }\n",
       "\n",
       "    .dataframe tbody tr th {\n",
       "        vertical-align: top;\n",
       "    }\n",
       "\n",
       "    .dataframe thead th {\n",
       "        text-align: right;\n",
       "    }\n",
       "</style>\n",
       "<table border=\"1\" class=\"dataframe\">\n",
       "  <thead>\n",
       "    <tr style=\"text-align: right;\">\n",
       "      <th></th>\n",
       "      <th>geometry</th>\n",
       "    </tr>\n",
       "  </thead>\n",
       "  <tbody>\n",
       "    <tr>\n",
       "      <th>0</th>\n",
       "      <td>POLYGON ((-111.40137 62.99516, -107.27051 62.9...</td>\n",
       "    </tr>\n",
       "  </tbody>\n",
       "</table>\n",
       "</div>"
      ],
      "text/plain": [
       "                                            geometry\n",
       "0  POLYGON ((-111.40137 62.99516, -107.27051 62.9..."
      ]
     },
     "execution_count": 5,
     "metadata": {},
     "output_type": "execute_result"
    }
   ],
   "source": [
    "gj = gpd.read_file(filename)\n",
    "gj.head()"
   ]
  },
  {
   "cell_type": "code",
   "execution_count": 6,
   "metadata": {
    "execution": {
     "iopub.execute_input": "2020-09-25T09:23:43.222749Z",
     "iopub.status.busy": "2020-09-25T09:23:43.222330Z",
     "iopub.status.idle": "2020-09-25T09:23:43.227239Z",
     "shell.execute_reply": "2020-09-25T09:23:43.226869Z"
    },
    "papermill": {
     "duration": 0.012121,
     "end_time": "2020-09-25T09:23:43.227315",
     "exception": false,
     "start_time": "2020-09-25T09:23:43.215194",
     "status": "completed"
    },
    "tags": []
   },
   "outputs": [
    {
     "data": {
      "text/plain": [
       "64.69910544204765"
      ]
     },
     "execution_count": 6,
     "metadata": {},
     "output_type": "execute_result"
    }
   ],
   "source": [
    "minLat = gj.head().bounds.miny[0]\n",
    "maxLat = gj.head().bounds.maxy[0]\n",
    "minLon = gj.head().bounds.minx[0]\n",
    "maxLon = gj.head().bounds.maxx[0]\n",
    "maxLat"
   ]
  },
  {
   "cell_type": "code",
   "execution_count": 7,
   "metadata": {
    "execution": {
     "iopub.execute_input": "2020-09-25T09:23:43.239053Z",
     "iopub.status.busy": "2020-09-25T09:23:43.238688Z",
     "iopub.status.idle": "2020-09-25T09:23:43.240905Z",
     "shell.execute_reply": "2020-09-25T09:23:43.240535Z"
    },
    "papermill": {
     "duration": 0.009096,
     "end_time": "2020-09-25T09:23:43.240982",
     "exception": false,
     "start_time": "2020-09-25T09:23:43.231886",
     "status": "completed"
    },
    "tags": []
   },
   "outputs": [
    {
     "data": {
      "text/plain": [
       "(97, 139)"
      ]
     },
     "execution_count": 7,
     "metadata": {},
     "output_type": "execute_result"
    }
   ],
   "source": [
    "topLeftTile = deg2num(minLat,minLon,zoomLevel)\n",
    "topLeftTile"
   ]
  },
  {
   "cell_type": "code",
   "execution_count": 8,
   "metadata": {
    "execution": {
     "iopub.execute_input": "2020-09-25T09:23:43.253051Z",
     "iopub.status.busy": "2020-09-25T09:23:43.252672Z",
     "iopub.status.idle": "2020-09-25T09:23:43.254840Z",
     "shell.execute_reply": "2020-09-25T09:23:43.255141Z"
    },
    "papermill": {
     "duration": 0.009376,
     "end_time": "2020-09-25T09:23:43.255229",
     "exception": false,
     "start_time": "2020-09-25T09:23:43.245853",
     "status": "completed"
    },
    "tags": []
   },
   "outputs": [
    {
     "data": {
      "text/plain": [
       "(103, 134)"
      ]
     },
     "execution_count": 8,
     "metadata": {},
     "output_type": "execute_result"
    }
   ],
   "source": [
    "bottomRightTile = deg2num(maxLat,maxLon,zoomLevel)\n",
    "bottomRightTile"
   ]
  },
  {
   "cell_type": "code",
   "execution_count": 9,
   "metadata": {
    "execution": {
     "iopub.execute_input": "2020-09-25T09:23:43.269054Z",
     "iopub.status.busy": "2020-09-25T09:23:43.268674Z",
     "iopub.status.idle": "2020-09-25T09:23:43.270589Z",
     "shell.execute_reply": "2020-09-25T09:23:43.270899Z"
    },
    "papermill": {
     "duration": 0.010651,
     "end_time": "2020-09-25T09:23:43.270990",
     "exception": false,
     "start_time": "2020-09-25T09:23:43.260339",
     "status": "completed"
    },
    "tags": []
   },
   "outputs": [
    {
     "data": {
      "text/plain": [
       "{'9_134_97.png': 'https://eratosthenes.pvretano.com/cubewerx/cubeserv/default/ogcapi/mysql_tb16/collections/sentinel1/map/default/tiles/smerc_512/9/134/97.png',\n",
       " '9_135_97.png': 'https://eratosthenes.pvretano.com/cubewerx/cubeserv/default/ogcapi/mysql_tb16/collections/sentinel1/map/default/tiles/smerc_512/9/135/97.png',\n",
       " '9_136_97.png': 'https://eratosthenes.pvretano.com/cubewerx/cubeserv/default/ogcapi/mysql_tb16/collections/sentinel1/map/default/tiles/smerc_512/9/136/97.png',\n",
       " '9_137_97.png': 'https://eratosthenes.pvretano.com/cubewerx/cubeserv/default/ogcapi/mysql_tb16/collections/sentinel1/map/default/tiles/smerc_512/9/137/97.png',\n",
       " '9_138_97.png': 'https://eratosthenes.pvretano.com/cubewerx/cubeserv/default/ogcapi/mysql_tb16/collections/sentinel1/map/default/tiles/smerc_512/9/138/97.png',\n",
       " '9_139_97.png': 'https://eratosthenes.pvretano.com/cubewerx/cubeserv/default/ogcapi/mysql_tb16/collections/sentinel1/map/default/tiles/smerc_512/9/139/97.png',\n",
       " '9_134_98.png': 'https://eratosthenes.pvretano.com/cubewerx/cubeserv/default/ogcapi/mysql_tb16/collections/sentinel1/map/default/tiles/smerc_512/9/134/98.png',\n",
       " '9_135_98.png': 'https://eratosthenes.pvretano.com/cubewerx/cubeserv/default/ogcapi/mysql_tb16/collections/sentinel1/map/default/tiles/smerc_512/9/135/98.png',\n",
       " '9_136_98.png': 'https://eratosthenes.pvretano.com/cubewerx/cubeserv/default/ogcapi/mysql_tb16/collections/sentinel1/map/default/tiles/smerc_512/9/136/98.png',\n",
       " '9_137_98.png': 'https://eratosthenes.pvretano.com/cubewerx/cubeserv/default/ogcapi/mysql_tb16/collections/sentinel1/map/default/tiles/smerc_512/9/137/98.png',\n",
       " '9_138_98.png': 'https://eratosthenes.pvretano.com/cubewerx/cubeserv/default/ogcapi/mysql_tb16/collections/sentinel1/map/default/tiles/smerc_512/9/138/98.png',\n",
       " '9_139_98.png': 'https://eratosthenes.pvretano.com/cubewerx/cubeserv/default/ogcapi/mysql_tb16/collections/sentinel1/map/default/tiles/smerc_512/9/139/98.png',\n",
       " '9_134_99.png': 'https://eratosthenes.pvretano.com/cubewerx/cubeserv/default/ogcapi/mysql_tb16/collections/sentinel1/map/default/tiles/smerc_512/9/134/99.png',\n",
       " '9_135_99.png': 'https://eratosthenes.pvretano.com/cubewerx/cubeserv/default/ogcapi/mysql_tb16/collections/sentinel1/map/default/tiles/smerc_512/9/135/99.png',\n",
       " '9_136_99.png': 'https://eratosthenes.pvretano.com/cubewerx/cubeserv/default/ogcapi/mysql_tb16/collections/sentinel1/map/default/tiles/smerc_512/9/136/99.png',\n",
       " '9_137_99.png': 'https://eratosthenes.pvretano.com/cubewerx/cubeserv/default/ogcapi/mysql_tb16/collections/sentinel1/map/default/tiles/smerc_512/9/137/99.png',\n",
       " '9_138_99.png': 'https://eratosthenes.pvretano.com/cubewerx/cubeserv/default/ogcapi/mysql_tb16/collections/sentinel1/map/default/tiles/smerc_512/9/138/99.png',\n",
       " '9_139_99.png': 'https://eratosthenes.pvretano.com/cubewerx/cubeserv/default/ogcapi/mysql_tb16/collections/sentinel1/map/default/tiles/smerc_512/9/139/99.png',\n",
       " '9_134_100.png': 'https://eratosthenes.pvretano.com/cubewerx/cubeserv/default/ogcapi/mysql_tb16/collections/sentinel1/map/default/tiles/smerc_512/9/134/100.png',\n",
       " '9_135_100.png': 'https://eratosthenes.pvretano.com/cubewerx/cubeserv/default/ogcapi/mysql_tb16/collections/sentinel1/map/default/tiles/smerc_512/9/135/100.png',\n",
       " '9_136_100.png': 'https://eratosthenes.pvretano.com/cubewerx/cubeserv/default/ogcapi/mysql_tb16/collections/sentinel1/map/default/tiles/smerc_512/9/136/100.png',\n",
       " '9_137_100.png': 'https://eratosthenes.pvretano.com/cubewerx/cubeserv/default/ogcapi/mysql_tb16/collections/sentinel1/map/default/tiles/smerc_512/9/137/100.png',\n",
       " '9_138_100.png': 'https://eratosthenes.pvretano.com/cubewerx/cubeserv/default/ogcapi/mysql_tb16/collections/sentinel1/map/default/tiles/smerc_512/9/138/100.png',\n",
       " '9_139_100.png': 'https://eratosthenes.pvretano.com/cubewerx/cubeserv/default/ogcapi/mysql_tb16/collections/sentinel1/map/default/tiles/smerc_512/9/139/100.png',\n",
       " '9_134_101.png': 'https://eratosthenes.pvretano.com/cubewerx/cubeserv/default/ogcapi/mysql_tb16/collections/sentinel1/map/default/tiles/smerc_512/9/134/101.png',\n",
       " '9_135_101.png': 'https://eratosthenes.pvretano.com/cubewerx/cubeserv/default/ogcapi/mysql_tb16/collections/sentinel1/map/default/tiles/smerc_512/9/135/101.png',\n",
       " '9_136_101.png': 'https://eratosthenes.pvretano.com/cubewerx/cubeserv/default/ogcapi/mysql_tb16/collections/sentinel1/map/default/tiles/smerc_512/9/136/101.png',\n",
       " '9_137_101.png': 'https://eratosthenes.pvretano.com/cubewerx/cubeserv/default/ogcapi/mysql_tb16/collections/sentinel1/map/default/tiles/smerc_512/9/137/101.png',\n",
       " '9_138_101.png': 'https://eratosthenes.pvretano.com/cubewerx/cubeserv/default/ogcapi/mysql_tb16/collections/sentinel1/map/default/tiles/smerc_512/9/138/101.png',\n",
       " '9_139_101.png': 'https://eratosthenes.pvretano.com/cubewerx/cubeserv/default/ogcapi/mysql_tb16/collections/sentinel1/map/default/tiles/smerc_512/9/139/101.png',\n",
       " '9_134_102.png': 'https://eratosthenes.pvretano.com/cubewerx/cubeserv/default/ogcapi/mysql_tb16/collections/sentinel1/map/default/tiles/smerc_512/9/134/102.png',\n",
       " '9_135_102.png': 'https://eratosthenes.pvretano.com/cubewerx/cubeserv/default/ogcapi/mysql_tb16/collections/sentinel1/map/default/tiles/smerc_512/9/135/102.png',\n",
       " '9_136_102.png': 'https://eratosthenes.pvretano.com/cubewerx/cubeserv/default/ogcapi/mysql_tb16/collections/sentinel1/map/default/tiles/smerc_512/9/136/102.png',\n",
       " '9_137_102.png': 'https://eratosthenes.pvretano.com/cubewerx/cubeserv/default/ogcapi/mysql_tb16/collections/sentinel1/map/default/tiles/smerc_512/9/137/102.png',\n",
       " '9_138_102.png': 'https://eratosthenes.pvretano.com/cubewerx/cubeserv/default/ogcapi/mysql_tb16/collections/sentinel1/map/default/tiles/smerc_512/9/138/102.png',\n",
       " '9_139_102.png': 'https://eratosthenes.pvretano.com/cubewerx/cubeserv/default/ogcapi/mysql_tb16/collections/sentinel1/map/default/tiles/smerc_512/9/139/102.png',\n",
       " '9_134_103.png': 'https://eratosthenes.pvretano.com/cubewerx/cubeserv/default/ogcapi/mysql_tb16/collections/sentinel1/map/default/tiles/smerc_512/9/134/103.png',\n",
       " '9_135_103.png': 'https://eratosthenes.pvretano.com/cubewerx/cubeserv/default/ogcapi/mysql_tb16/collections/sentinel1/map/default/tiles/smerc_512/9/135/103.png',\n",
       " '9_136_103.png': 'https://eratosthenes.pvretano.com/cubewerx/cubeserv/default/ogcapi/mysql_tb16/collections/sentinel1/map/default/tiles/smerc_512/9/136/103.png',\n",
       " '9_137_103.png': 'https://eratosthenes.pvretano.com/cubewerx/cubeserv/default/ogcapi/mysql_tb16/collections/sentinel1/map/default/tiles/smerc_512/9/137/103.png',\n",
       " '9_138_103.png': 'https://eratosthenes.pvretano.com/cubewerx/cubeserv/default/ogcapi/mysql_tb16/collections/sentinel1/map/default/tiles/smerc_512/9/138/103.png',\n",
       " '9_139_103.png': 'https://eratosthenes.pvretano.com/cubewerx/cubeserv/default/ogcapi/mysql_tb16/collections/sentinel1/map/default/tiles/smerc_512/9/139/103.png'}"
      ]
     },
     "execution_count": 9,
     "metadata": {},
     "output_type": "execute_result"
    }
   ],
   "source": [
    "resultUrls = {}\n",
    "\n",
    "result = \"\"\n",
    "for x in range(topLeftTile[0], bottomRightTile[0] + 1):\n",
    "    for y in range(bottomRightTile[1], topLeftTile[1] + 1):\n",
    "        result = tileBaseUrl%(zoomLevel, y, x)\n",
    "        resultUrls[\"%s_%s_%s.png\"%(zoomLevel, y, x)] = result\n",
    "        \n",
    "resultUrls\n"
   ]
  },
  {
   "cell_type": "code",
   "execution_count": 10,
   "metadata": {
    "execution": {
     "iopub.execute_input": "2020-09-25T09:23:43.283878Z",
     "iopub.status.busy": "2020-09-25T09:23:43.283520Z",
     "iopub.status.idle": "2020-09-25T09:23:43.285054Z",
     "shell.execute_reply": "2020-09-25T09:23:43.285336Z"
    },
    "papermill": {
     "duration": 0.009129,
     "end_time": "2020-09-25T09:23:43.285427",
     "exception": false,
     "start_time": "2020-09-25T09:23:43.276298",
     "status": "completed"
    },
    "tags": []
   },
   "outputs": [],
   "source": [
    "import json\n",
    "\n",
    "with open(outputFilename, 'w') as outfile:\n",
    "    json.dump(resultUrls, outfile)"
   ]
  },
  {
   "cell_type": "code",
   "execution_count": 11,
   "metadata": {
    "execution": {
     "iopub.execute_input": "2020-09-25T09:23:43.299299Z",
     "iopub.status.busy": "2020-09-25T09:23:43.298719Z",
     "iopub.status.idle": "2020-09-25T09:23:43.301266Z",
     "shell.execute_reply": "2020-09-25T09:23:43.301794Z"
    },
    "papermill": {
     "duration": 0.011115,
     "end_time": "2020-09-25T09:23:43.301952",
     "exception": false,
     "start_time": "2020-09-25T09:23:43.290837",
     "status": "completed"
    },
    "tags": []
   },
   "outputs": [
    {
     "data": {
      "text/plain": [
       "'start to download 42 tiles'"
      ]
     },
     "execution_count": 11,
     "metadata": {},
     "output_type": "execute_result"
    }
   ],
   "source": [
    "import shutil\n",
    "\n",
    "# clear the target folder\n",
    "if os.path.exists(downloadFolder) and os.path.isdir(downloadFolder):\n",
    "    shutil.rmtree(downloadFolder)\n",
    "\n",
    "# re-create the target folder\n",
    "if not os.path.exists(downloadFolder):\n",
    "    os.makedirs(downloadFolder)\n",
    "\n",
    "'start to download %s tiles'%(len(resultUrls))\n"
   ]
  },
  {
   "cell_type": "code",
   "execution_count": 12,
   "metadata": {
    "execution": {
     "iopub.execute_input": "2020-09-25T09:23:43.324997Z",
     "iopub.status.busy": "2020-09-25T09:23:43.323996Z",
     "iopub.status.idle": "2020-09-25T09:27:05.589531Z",
     "shell.execute_reply": "2020-09-25T09:27:05.590053Z"
    },
    "papermill": {
     "duration": 202.278752,
     "end_time": "2020-09-25T09:27:05.590204",
     "exception": false,
     "start_time": "2020-09-25T09:23:43.311452",
     "status": "completed"
    },
    "tags": []
   },
   "outputs": [
    {
     "data": {
      "text/plain": [
       "'downloaded 42 tiles to ./training2'"
      ]
     },
     "execution_count": 12,
     "metadata": {},
     "output_type": "execute_result"
    }
   ],
   "source": [
    "import requests\n",
    "    \n",
    "for fileName, targetUrl in resultUrls.items():\n",
    "    r = requests.get(targetUrl, allow_redirects=True)\n",
    "    open(downloadFolder + '/' + fileName, 'wb').write(r.content)\n",
    "    \n",
    "'downloaded %s tiles to %s'%(len(resultUrls), downloadFolder)"
   ]
  },
  {
   "cell_type": "code",
   "execution_count": null,
   "metadata": {
    "papermill": {
     "duration": 0.031712,
     "end_time": "2020-09-25T09:27:05.692935",
     "exception": false,
     "start_time": "2020-09-25T09:27:05.661223",
     "status": "completed"
    },
    "tags": []
   },
   "outputs": [],
   "source": []
  }
 ],
 "metadata": {
  "celltoolbar": "Tags",
  "kernelspec": {
   "display_name": "Python 3",
   "language": "python",
   "name": "python3"
  },
  "language_info": {
   "codemirror_mode": {
    "name": "ipython",
    "version": 3
   },
   "file_extension": ".py",
   "mimetype": "text/x-python",
   "name": "python",
   "nbconvert_exporter": "python",
   "pygments_lexer": "ipython3",
   "version": "3.8.5"
  },
  "papermill": {
   "duration": 203.708384,
   "end_time": "2020-09-25T09:27:06.015617",
   "environment_variables": {},
   "exception": null,
   "input_path": "tile-resolution.ipynb",
   "output_path": "output.ipynb",
   "parameters": {
    "downloadFolder": "./training2",
    "filename": "aoi.geojson",
    "tileBaseUrl": "https://eratosthenes.pvretano.com/cubewerx/cubeserv/default/ogcapi/mysql_tb16/collections/sentinel1/map/default/tiles/smerc_512/%s/%s/%s.png",
    "zoomLevel": 9
   },
   "start_time": "2020-09-25T09:23:42.307233",
   "version": "2.1.3"
  }
 },
 "nbformat": 4,
 "nbformat_minor": 4
}