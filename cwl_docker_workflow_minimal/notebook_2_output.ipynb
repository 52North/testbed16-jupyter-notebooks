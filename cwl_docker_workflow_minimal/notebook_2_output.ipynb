{
 "cells": [
  {
   "cell_type": "code",
   "execution_count": 1,
   "metadata": {
    "execution": {
     "iopub.execute_input": "2020-05-12T12:43:41.553178Z",
     "iopub.status.busy": "2020-05-12T12:43:41.551994Z",
     "iopub.status.idle": "2020-05-12T12:43:41.555523Z",
     "shell.execute_reply": "2020-05-12T12:43:41.556241Z"
    },
    "papermill": {
     "duration": 0.01922,
     "end_time": "2020-05-12T12:43:41.556535",
     "exception": false,
     "start_time": "2020-05-12T12:43:41.537315",
     "status": "completed"
    },
    "tags": [
     "parameters"
    ]
   },
   "outputs": [],
   "source": [
    "input_path = \"\""
   ]
  },
  {
   "cell_type": "code",
   "execution_count": 2,
   "metadata": {
    "execution": {
     "iopub.execute_input": "2020-05-12T12:43:41.569813Z",
     "iopub.status.busy": "2020-05-12T12:43:41.569212Z",
     "iopub.status.idle": "2020-05-12T12:43:41.571005Z",
     "shell.execute_reply": "2020-05-12T12:43:41.571538Z"
    },
    "papermill": {
     "duration": 0.009493,
     "end_time": "2020-05-12T12:43:41.571677",
     "exception": false,
     "start_time": "2020-05-12T12:43:41.562184",
     "status": "completed"
    },
    "tags": [
     "injected-parameters"
    ]
   },
   "outputs": [],
   "source": [
    "# Parameters\n",
    "input_path = (\n",
    "    \"/var/lib/cwl/stg64b00988-d3c9-47ec-b24e-3a3d63030bc4/notebook_1_output.ipynb\"\n",
    ")\n"
   ]
  },
  {
   "cell_type": "code",
   "execution_count": 3,
   "metadata": {
    "execution": {
     "iopub.execute_input": "2020-05-12T12:43:41.585331Z",
     "iopub.status.busy": "2020-05-12T12:43:41.584595Z",
     "iopub.status.idle": "2020-05-12T12:43:42.165692Z",
     "shell.execute_reply": "2020-05-12T12:43:42.166210Z"
    },
    "papermill": {
     "duration": 0.590816,
     "end_time": "2020-05-12T12:43:42.166351",
     "exception": false,
     "start_time": "2020-05-12T12:43:41.575535",
     "status": "completed"
    },
    "tags": []
   },
   "outputs": [
    {
     "data": {
      "text/plain": [
       "Scraps([('some_processed_parameter',\n",
       "         Scrap(name='some_processed_parameter', data='some other parameter', encoder='text', display=None))])"
      ]
     },
     "execution_count": 3,
     "metadata": {},
     "output_type": "execute_result"
    }
   ],
   "source": [
    "import scrapbook as sb\n",
    "\n",
    "nb = sb.read_notebook(input_path)\n",
    "nb.scraps"
   ]
  }
 ],
 "metadata": {
  "celltoolbar": "Tags",
  "kernelspec": {
   "display_name": "Python 3",
   "language": "python",
   "name": "python3"
  },
  "language_info": {
   "codemirror_mode": {
    "name": "ipython",
    "version": 3
   },
   "file_extension": ".py",
   "mimetype": "text/x-python",
   "name": "python",
   "nbconvert_exporter": "python",
   "pygments_lexer": "ipython3",
   "version": "3.8.2"
  },
  "papermill": {
   "duration": 1.672558,
   "end_time": "2020-05-12T12:43:42.278714",
   "environment_variables": {},
   "exception": null,
   "input_path": "/var/lib/cwl/stg51691048-aecc-40c0-b582-5108e65378e5/notebook_2.ipynb",
   "output_path": "notebook_2_output.ipynb",
   "parameters": {
    "input_path": "/var/lib/cwl/stg64b00988-d3c9-47ec-b24e-3a3d63030bc4/notebook_1_output.ipynb"
   },
   "start_time": "2020-05-12T12:43:40.606156",
   "version": "2.1.1"
  }
 },
 "nbformat": 4,
 "nbformat_minor": 4
}