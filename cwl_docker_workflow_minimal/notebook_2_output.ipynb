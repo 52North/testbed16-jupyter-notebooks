{
 "cells": [
  {
   "cell_type": "code",
   "execution_count": 1,
   "metadata": {
    "execution": {
     "iopub.execute_input": "2020-05-25T09:50:34.515400Z",
     "iopub.status.busy": "2020-05-25T09:50:34.513026Z",
     "iopub.status.idle": "2020-05-25T09:50:34.519544Z",
     "shell.execute_reply": "2020-05-25T09:50:34.518127Z"
    },
    "papermill": {
     "duration": 0.026785,
     "end_time": "2020-05-25T09:50:34.519823",
     "exception": false,
     "start_time": "2020-05-25T09:50:34.493038",
     "status": "completed"
    },
    "tags": [
     "parameters"
    ]
   },
   "outputs": [],
   "source": [
    "input_path = \"\""
   ]
  },
  {
   "cell_type": "code",
   "execution_count": 2,
   "metadata": {
    "execution": {
     "iopub.execute_input": "2020-05-25T09:50:34.534370Z",
     "iopub.status.busy": "2020-05-25T09:50:34.533411Z",
     "iopub.status.idle": "2020-05-25T09:50:34.536225Z",
     "shell.execute_reply": "2020-05-25T09:50:34.535610Z"
    },
    "papermill": {
     "duration": 0.010699,
     "end_time": "2020-05-25T09:50:34.536335",
     "exception": false,
     "start_time": "2020-05-25T09:50:34.525636",
     "status": "completed"
    },
    "tags": [
     "injected-parameters"
    ]
   },
   "outputs": [],
   "source": [
    "# Parameters\n",
    "input_path = (\n",
    "    \"/var/lib/cwl/stg7d27cdc2-7296-4ce8-96de-13d0d3e19fca/notebook_1_output.ipynb\"\n",
    ")\n"
   ]
  },
  {
   "cell_type": "code",
   "execution_count": 3,
   "metadata": {
    "execution": {
     "iopub.execute_input": "2020-05-25T09:50:34.546072Z",
     "iopub.status.busy": "2020-05-25T09:50:34.545373Z",
     "iopub.status.idle": "2020-05-25T09:50:34.997682Z",
     "shell.execute_reply": "2020-05-25T09:50:34.997107Z"
    },
    "papermill": {
     "duration": 0.458361,
     "end_time": "2020-05-25T09:50:34.997794",
     "exception": false,
     "start_time": "2020-05-25T09:50:34.539433",
     "status": "completed"
    },
    "tags": []
   },
   "outputs": [
    {
     "data": {
      "text/plain": [
       "Scraps([('some_processed_parameter',\n",
       "         Scrap(name='some_processed_parameter', data='some other parameter', encoder='text', display=None))])"
      ]
     },
     "execution_count": 3,
     "metadata": {},
     "output_type": "execute_result"
    }
   ],
   "source": [
    "import scrapbook as sb\n",
    "\n",
    "nb = sb.read_notebook(input_path)\n",
    "nb.scraps"
   ]
  }
 ],
 "metadata": {
  "celltoolbar": "Tags",
  "kernelspec": {
   "display_name": "Python 3",
   "language": "python",
   "name": "python3"
  },
  "language_info": {
   "codemirror_mode": {
    "name": "ipython",
    "version": 3
   },
   "file_extension": ".py",
   "mimetype": "text/x-python",
   "name": "python",
   "nbconvert_exporter": "python",
   "pygments_lexer": "ipython3",
   "version": "3.8.3"
  },
  "papermill": {
   "duration": 1.43539,
   "end_time": "2020-05-25T09:50:35.108998",
   "environment_variables": {},
   "exception": null,
   "input_path": "/var/lib/cwl/stg4e76edea-d2b1-4416-8fc7-9a0c94a66301/notebook_2.ipynb",
   "output_path": "notebook_2_output.ipynb",
   "parameters": {
    "input_path": "/var/lib/cwl/stg7d27cdc2-7296-4ce8-96de-13d0d3e19fca/notebook_1_output.ipynb"
   },
   "start_time": "2020-05-25T09:50:33.673608",
   "version": "2.1.1"
  }
 },
 "nbformat": 4,
 "nbformat_minor": 4
}