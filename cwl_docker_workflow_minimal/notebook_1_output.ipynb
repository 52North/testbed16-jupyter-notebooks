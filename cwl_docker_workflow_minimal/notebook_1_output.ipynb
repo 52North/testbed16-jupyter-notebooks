{
 "cells": [
  {
   "cell_type": "code",
   "execution_count": 1,
   "metadata": {
    "execution": {
     "iopub.execute_input": "2020-05-25T09:50:31.413199Z",
     "iopub.status.busy": "2020-05-25T09:50:31.410838Z",
     "iopub.status.idle": "2020-05-25T09:50:31.415538Z",
     "shell.execute_reply": "2020-05-25T09:50:31.417198Z"
    },
    "papermill": {
     "duration": 0.027785,
     "end_time": "2020-05-25T09:50:31.417667",
     "exception": false,
     "start_time": "2020-05-25T09:50:31.389882",
     "status": "completed"
    },
    "tags": [
     "parameters"
    ]
   },
   "outputs": [],
   "source": [
    "SOME_PARAMETER = \"some_parameter\""
   ]
  },
  {
   "cell_type": "code",
   "execution_count": 2,
   "metadata": {
    "execution": {
     "iopub.execute_input": "2020-05-25T09:50:31.437474Z",
     "iopub.status.busy": "2020-05-25T09:50:31.436645Z",
     "iopub.status.idle": "2020-05-25T09:50:31.439153Z",
     "shell.execute_reply": "2020-05-25T09:50:31.438349Z"
    },
    "papermill": {
     "duration": 0.012049,
     "end_time": "2020-05-25T09:50:31.439280",
     "exception": false,
     "start_time": "2020-05-25T09:50:31.427231",
     "status": "completed"
    },
    "tags": [
     "injected-parameters"
    ]
   },
   "outputs": [],
   "source": [
    "# Parameters\n",
    "SOME_PARAMETER = \"some other parameter\"\n"
   ]
  },
  {
   "cell_type": "code",
   "execution_count": 3,
   "metadata": {
    "execution": {
     "iopub.execute_input": "2020-05-25T09:50:31.451235Z",
     "iopub.status.busy": "2020-05-25T09:50:31.450640Z",
     "iopub.status.idle": "2020-05-25T09:50:31.452795Z",
     "shell.execute_reply": "2020-05-25T09:50:31.453265Z"
    },
    "papermill": {
     "duration": 0.009527,
     "end_time": "2020-05-25T09:50:31.453398",
     "exception": false,
     "start_time": "2020-05-25T09:50:31.443871",
     "status": "completed"
    },
    "tags": []
   },
   "outputs": [
    {
     "name": "stdout",
     "output_type": "stream",
     "text": [
      "Simply print some other parameter\n"
     ]
    }
   ],
   "source": [
    "print(f\"Simply print {SOME_PARAMETER}\")"
   ]
  },
  {
   "cell_type": "code",
   "execution_count": 4,
   "metadata": {
    "execution": {
     "iopub.execute_input": "2020-05-25T09:50:31.466457Z",
     "iopub.status.busy": "2020-05-25T09:50:31.465980Z",
     "iopub.status.idle": "2020-05-25T09:50:31.868874Z",
     "shell.execute_reply": "2020-05-25T09:50:31.868277Z"
    },
    "papermill": {
     "duration": 0.411213,
     "end_time": "2020-05-25T09:50:31.868981",
     "exception": false,
     "start_time": "2020-05-25T09:50:31.457768",
     "status": "completed"
    },
    "tags": []
   },
   "outputs": [
    {
     "data": {
      "application/scrapbook.scrap.text+json": {
       "data": "some other parameter",
       "encoder": "text",
       "name": "some_processed_parameter",
       "version": 1
      }
     },
     "metadata": {
      "scrapbook": {
       "data": true,
       "display": false,
       "name": "some_processed_parameter"
      }
     },
     "output_type": "display_data"
    }
   ],
   "source": [
    "import scrapbook as sb\n",
    "\n",
    "sb.glue(\"some_processed_parameter\", SOME_PARAMETER)"
   ]
  }
 ],
 "metadata": {
  "celltoolbar": "Tags",
  "kernelspec": {
   "display_name": "Python 3",
   "language": "python",
   "name": "python3"
  },
  "language_info": {
   "codemirror_mode": {
    "name": "ipython",
    "version": 3
   },
   "file_extension": ".py",
   "mimetype": "text/x-python",
   "name": "python",
   "nbconvert_exporter": "python",
   "pygments_lexer": "ipython3",
   "version": "3.8.3"
  },
  "papermill": {
   "duration": 1.408346,
   "end_time": "2020-05-25T09:50:31.981022",
   "environment_variables": {},
   "exception": null,
   "input_path": "/var/lib/cwl/stge3e02c9c-3de1-4b00-8028-93b098b9a5fa/notebook_1.ipynb",
   "output_path": "notebook_1_output.ipynb",
   "parameters": {
    "SOME_PARAMETER": "some other parameter"
   },
   "start_time": "2020-05-25T09:50:30.572676",
   "version": "2.1.1"
  }
 },
 "nbformat": 4,
 "nbformat_minor": 4
}