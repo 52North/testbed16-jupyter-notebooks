{
 "cells": [
  {
   "cell_type": "code",
   "execution_count": 1,
   "metadata": {
    "execution": {
     "iopub.execute_input": "2020-05-12T12:43:37.338001Z",
     "iopub.status.busy": "2020-05-12T12:43:37.336668Z",
     "iopub.status.idle": "2020-05-12T12:43:37.340428Z",
     "shell.execute_reply": "2020-05-12T12:43:37.339752Z"
    },
    "papermill": {
     "duration": 0.016795,
     "end_time": "2020-05-12T12:43:37.340575",
     "exception": false,
     "start_time": "2020-05-12T12:43:37.323780",
     "status": "completed"
    },
    "tags": [
     "parameters"
    ]
   },
   "outputs": [],
   "source": [
    "SOME_PARAMETER = \"some_parameter\""
   ]
  },
  {
   "cell_type": "code",
   "execution_count": 2,
   "metadata": {
    "execution": {
     "iopub.execute_input": "2020-05-12T12:43:37.354297Z",
     "iopub.status.busy": "2020-05-12T12:43:37.353621Z",
     "iopub.status.idle": "2020-05-12T12:43:37.355516Z",
     "shell.execute_reply": "2020-05-12T12:43:37.356154Z"
    },
    "papermill": {
     "duration": 0.010399,
     "end_time": "2020-05-12T12:43:37.356286",
     "exception": false,
     "start_time": "2020-05-12T12:43:37.345887",
     "status": "completed"
    },
    "tags": [
     "injected-parameters"
    ]
   },
   "outputs": [],
   "source": [
    "# Parameters\n",
    "SOME_PARAMETER = \"some other parameter\"\n"
   ]
  },
  {
   "cell_type": "code",
   "execution_count": 3,
   "metadata": {
    "execution": {
     "iopub.execute_input": "2020-05-12T12:43:37.369901Z",
     "iopub.status.busy": "2020-05-12T12:43:37.369236Z",
     "iopub.status.idle": "2020-05-12T12:43:37.372472Z",
     "shell.execute_reply": "2020-05-12T12:43:37.371799Z"
    },
    "papermill": {
     "duration": 0.011371,
     "end_time": "2020-05-12T12:43:37.372580",
     "exception": false,
     "start_time": "2020-05-12T12:43:37.361209",
     "status": "completed"
    },
    "tags": []
   },
   "outputs": [
    {
     "name": "stdout",
     "output_type": "stream",
     "text": [
      "Simply print some other parameter\n"
     ]
    }
   ],
   "source": [
    "print(f\"Simply print {SOME_PARAMETER}\")"
   ]
  },
  {
   "cell_type": "code",
   "execution_count": 4,
   "metadata": {
    "execution": {
     "iopub.execute_input": "2020-05-12T12:43:37.386705Z",
     "iopub.status.busy": "2020-05-12T12:43:37.386095Z",
     "iopub.status.idle": "2020-05-12T12:43:37.971539Z",
     "shell.execute_reply": "2020-05-12T12:43:37.970948Z"
    },
    "papermill": {
     "duration": 0.593911,
     "end_time": "2020-05-12T12:43:37.971660",
     "exception": false,
     "start_time": "2020-05-12T12:43:37.377749",
     "status": "completed"
    },
    "tags": []
   },
   "outputs": [
    {
     "data": {
      "application/scrapbook.scrap.text+json": {
       "data": "some other parameter",
       "encoder": "text",
       "name": "some_processed_parameter",
       "version": 1
      }
     },
     "metadata": {
      "scrapbook": {
       "data": true,
       "display": false,
       "name": "some_processed_parameter"
      }
     },
     "output_type": "display_data"
    }
   ],
   "source": [
    "import scrapbook as sb\n",
    "\n",
    "sb.glue(\"some_processed_parameter\", SOME_PARAMETER)"
   ]
  }
 ],
 "metadata": {
  "celltoolbar": "Tags",
  "kernelspec": {
   "display_name": "Python 3",
   "language": "python",
   "name": "python3"
  },
  "language_info": {
   "codemirror_mode": {
    "name": "ipython",
    "version": 3
   },
   "file_extension": ".py",
   "mimetype": "text/x-python",
   "name": "python",
   "nbconvert_exporter": "python",
   "pygments_lexer": "ipython3",
   "version": "3.8.2"
  },
  "papermill": {
   "duration": 1.70151,
   "end_time": "2020-05-12T12:43:38.084543",
   "environment_variables": {},
   "exception": null,
   "input_path": "/var/lib/cwl/stg7dd48e1c-4558-44a9-9aff-0f72f94da333/notebook_1.ipynb",
   "output_path": "notebook_1_output.ipynb",
   "parameters": {
    "SOME_PARAMETER": "some other parameter"
   },
   "start_time": "2020-05-12T12:43:36.383033",
   "version": "2.1.1"
  }
 },
 "nbformat": 4,
 "nbformat_minor": 4
}